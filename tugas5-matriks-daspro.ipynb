{
 "cells": [
  {
   "cell_type": "code",
   "execution_count": null,
   "metadata": {},
   "outputs": [
    {
     "name": "stdout",
     "output_type": "stream",
     "text": [
      "15 0 10 8 2\n"
     ]
    }
   ],
   "source": [
    "# Pertambahan Matriks\n",
    "mat1 = [\n",
    "    [9,0],\n",
    "    [3,6]\n",
    "]\n",
    "\n",
    "mat2 = [\n",
    "    [6,0],\n",
    "    [7,2]\n",
    "]\n",
    "\n",
    "for x in range(0,len(mat1)):\n",
    "    for y in range (0,len(mat1[0])):\n",
    "        print(mat1[x][y] + mat2[x][y], end=\" \"),\n"
   ]
  },
  {
   "cell_type": "code",
   "execution_count": null,
   "metadata": {},
   "outputs": [
    {
     "name": "stdout",
     "output_type": "stream",
     "text": [
      "3 0 -4 4 "
     ]
    }
   ],
   "source": [
    "# Pengurangan Matriks\n",
    "\n",
    "mat1 = [\n",
    "    [9,0],\n",
    "    [3,6]\n",
    "]\n",
    "\n",
    "mat2 = [\n",
    "    [6,0],\n",
    "    [7,2]\n",
    "]\n",
    "\n",
    "for x in range(0,len(mat1)):\n",
    "    for y in range (0,len(mat1[0])):\n",
    "        print(mat1[x][y] - mat2[x][y], end=\" \"),\n"
   ]
  },
  {
   "cell_type": "code",
   "execution_count": null,
   "metadata": {},
   "outputs": [
    {
     "name": "stdout",
     "output_type": "stream",
     "text": [
      "54 0 60 12 "
     ]
    }
   ],
   "source": [
    "# Perkalian Matriks\n",
    "\n",
    "mat1 = [\n",
    "    [9,0],\n",
    "    [3,6]\n",
    "]\n",
    "\n",
    "mat2 = [\n",
    "    [6,0],\n",
    "    [7,2]\n",
    "]\n",
    "\n",
    "mat3 = []\n",
    "\n",
    "for x in range(0, len(mat1)): \n",
    "    row= []\n",
    "    for y in range(0, len (mat1[0])): \n",
    "        total = 0\n",
    "        for z in range(0, len(mat1)): \n",
    "            total = total + (mat1[x][z] * mat2[z][y]) \n",
    "        row.append(total) \n",
    "    mat3.append(row)\n",
    "for x in range(0, len (mat3)): \n",
    "    for y in range(0, len (mat3[0])): \n",
    "        print (mat3[x][y], end=' ')"
   ]
  },
  {
   "cell_type": "code",
   "execution_count": 9,
   "metadata": {},
   "outputs": [
    {
     "name": "stdout",
     "output_type": "stream",
     "text": [
      "data Ke - 1\n",
      "data Ke - 2\n",
      "========================Daftar Nilai=========================\n",
      "   NIM Nama Lengkap  nilai UTS  Nilai UAS  Rata-rata\n",
      "0  123          Kai         90         98       94.0\n",
      "1  123          kai          7         98       52.5\n",
      "=============================================================\n"
     ]
    }
   ],
   "source": [
    "import pandas as pd\n",
    "#variable yg berulang menggunakan List/matriks\n",
    "list_nim=[]\n",
    "list_nama=[]\n",
    "list_uts=[]\n",
    "list_uas=[]\n",
    "list_total=[]\n",
    "ulang=2\n",
    "for i in range (ulang) :\n",
    "    print (\"data Ke - \" + str(i+1))\n",
    "    list_nim.append (input (\"Nim : \"))\n",
    "    list_nama.append (input (\"Nama : \"))\n",
    "    list_uts.append(int(input (\"Nilai UTS : \")))\n",
    "    list_uas.append(int(input(\"Nilai UAS :: \")))\n",
    "#proses\n",
    "for i in range (ulang) :\n",
    "    list_total.append((list_uas[i] + list_uts[i]) / 2)\n",
    "    tamu = {\n",
    "        \"NIM\" : list_nim,\n",
    "        \"Nama Lengkap\" : list_nama,\n",
    "        \"nilai UTS\": list_uts,\n",
    "        \"Nilai UAS\": list_uas,\n",
    "        \"Rata-rata\": list_total\n",
    "        }\n",
    "data_tamu = pd.DataFrame (tamu)\n",
    "#cetak\n",
    "print(\"========================Daftar Nilai=========================\")\n",
    "print(data_tamu)\n",
    "print(\"=============================================================\")"
   ]
  }
 ],
 "metadata": {
  "kernelspec": {
   "display_name": "Python 3",
   "language": "python",
   "name": "python3"
  },
  "language_info": {
   "codemirror_mode": {
    "name": "ipython",
    "version": 3
   },
   "file_extension": ".py",
   "mimetype": "text/x-python",
   "name": "python",
   "nbconvert_exporter": "python",
   "pygments_lexer": "ipython3",
   "version": "3.12.0"
  }
 },
 "nbformat": 4,
 "nbformat_minor": 2
}
