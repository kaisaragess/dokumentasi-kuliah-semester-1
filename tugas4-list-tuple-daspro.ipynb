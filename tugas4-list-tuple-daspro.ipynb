{
 "cells": [
  {
   "cell_type": "code",
   "execution_count": 12,
   "metadata": {},
   "outputs": [
    {
     "name": "stdout",
     "output_type": "stream",
     "text": [
      "['y', 't']\n",
      "['t', 'h', 'o']\n"
     ]
    }
   ],
   "source": [
    "angka = ['p','y','t','h', 'o', 'n']\n",
    "print(angka[1:3])\n",
    "print(angka[-4:-1])\n"
   ]
  },
  {
   "cell_type": "code",
   "execution_count": 3,
   "metadata": {},
   "outputs": [
    {
     "name": "stdout",
     "output_type": "stream",
     "text": [
      "['You', 'Love', 'Python', 'programming', 2017]\n"
     ]
    }
   ],
   "source": [
    "my_list = [\"I\", \"Love\", \"Python\", \"programming\", 2017]\n",
    "my_list[0] = \"You\"\n",
    "print(my_list)"
   ]
  },
  {
   "cell_type": "code",
   "execution_count": 4,
   "metadata": {},
   "outputs": [
    {
     "name": "stdout",
     "output_type": "stream",
     "text": [
      "[1, 2, 3, 4]\n"
     ]
    }
   ],
   "source": [
    "my_list2 = [1,2,3]\n",
    "my_list2.append(4)\n",
    "print(my_list2)"
   ]
  },
  {
   "cell_type": "code",
   "execution_count": 6,
   "metadata": {},
   "outputs": [
    {
     "name": "stdout",
     "output_type": "stream",
     "text": [
      "['Kaisar', 'Ages', 'Querio']\n"
     ]
    }
   ],
   "source": [
    "nama = [\"Kaisar\", \"Querio\"]\n",
    "nama.insert(1,\"Ages\")\n",
    "print(nama)"
   ]
  },
  {
   "cell_type": "code",
   "execution_count": 13,
   "metadata": {},
   "outputs": [
    {
     "name": "stdout",
     "output_type": "stream",
     "text": [
      "Ada Pisang euy\n"
     ]
    }
   ],
   "source": [
    "keranjang = [\"Apel\", \"Pisang\", \"Nangka\", \"Semangka\"]\n",
    "if \"Pisang\" in keranjang :\n",
    "    print(\"Ada Pisang euy\")"
   ]
  },
  {
   "cell_type": "code",
   "execution_count": 14,
   "metadata": {},
   "outputs": [
    {
     "name": "stdout",
     "output_type": "stream",
     "text": [
      "[1, 3, 5, 7, 9]\n",
      "[1, 3, 5, 7, 9, 11, 13, 15]\n"
     ]
    }
   ],
   "source": [
    "ganjil = [1,3,5,7]\n",
    "ganjil.append(9)\n",
    "print(ganjil)\n",
    "ganjil.extend([11,13,15])\n",
    "print(ganjil)"
   ]
  },
  {
   "cell_type": "code",
   "execution_count": 15,
   "metadata": {},
   "outputs": [
    {
     "name": "stdout",
     "output_type": "stream",
     "text": [
      "['c', 'b', 'a']\n"
     ]
    }
   ],
   "source": [
    "alfabet = ['a', 'b', 'c']\n",
    "alfabet.sort(reverse=True)\n",
    "print(alfabet)"
   ]
  },
  {
   "cell_type": "code",
   "execution_count": 16,
   "metadata": {},
   "outputs": [
    {
     "name": "stdout",
     "output_type": "stream",
     "text": [
      "['Apel', 'Nangka', 'Semangka']\n"
     ]
    }
   ],
   "source": [
    "keranjang = [\"Apel\", \"Pisang\", \"Nangka\", \"Semangka\"]\n",
    "keranjang.pop(1)\n",
    "print(keranjang)"
   ]
  },
  {
   "cell_type": "code",
   "execution_count": 17,
   "metadata": {},
   "outputs": [
    {
     "name": "stdout",
     "output_type": "stream",
     "text": [
      "['Pisang', 'Nangka', 'Semangka', 'Apel']\n"
     ]
    }
   ],
   "source": [
    "keranjang = [\"Apel\", \"Pisang\", \"Nangka\", \"Semangka\", \"Apel\"]\n",
    "keranjang.remove(\"Apel\")\n",
    "print(keranjang)"
   ]
  },
  {
   "cell_type": "code",
   "execution_count": 23,
   "metadata": {},
   "outputs": [
    {
     "name": "stdout",
     "output_type": "stream",
     "text": [
      "[2, 3, 4, 5, 6, 7, 8, 9, 0]\n"
     ]
    }
   ],
   "source": [
    "my_list3 = [1,2,3,4,5,6,7,8,9,0]\n",
    "del my_list3[0]\n",
    "print(my_list3)"
   ]
  },
  {
   "cell_type": "code",
   "execution_count": 28,
   "metadata": {},
   "outputs": [
    {
     "name": "stdout",
     "output_type": "stream",
     "text": [
      "Baris Pertama, Kolom Pertama adalah =  1\n",
      "Baris Pertama,Kolom Kedua adalah =  2\n",
      "Baris Pertama,Kolom Ketiga adalah =  3\n",
      "Baris Ketiga, Kolom Ketiga adalah =  9\n",
      "Baris Keempat, Kolom Pertama adalah =  0\n"
     ]
    }
   ],
   "source": [
    "array_2dimensi = [\n",
    "    [1,2,3],\n",
    "    [4,5,6],\n",
    "    [7,8,9],\n",
    "    [0]\n",
    "    ]\n",
    "print(\"Baris Pertama, Kolom Pertama adalah = \", array_2dimensi[0][0])\n",
    "print(\"Baris Pertama,Kolom Kedua adalah = \", array_2dimensi[0][1])\n",
    "print(\"Baris Pertama,Kolom Ketiga adalah = \", array_2dimensi[0][2])\n",
    "print(\"Baris Ketiga, Kolom Ketiga adalah = \", array_2dimensi[2][2])\n",
    "print(\"Baris Keempat, Kolom Pertama adalah = \",array_2dimensi[3][0])"
   ]
  },
  {
   "cell_type": "code",
   "execution_count": 27,
   "metadata": {},
   "outputs": [
    {
     "name": "stdout",
     "output_type": "stream",
     "text": [
      "data Ke - 1\n",
      "data Ke - 2\n",
      "=============================================================\n",
      "Nim      Nilai Uts           Nilai UAS               Total\n",
      "=============================================================\n",
      "1 \t 78 \t\t 89 \t\t\t 83\n",
      "2 \t 89 \t\t 76 \t\t\t 82\n",
      "=============================================================\n"
     ]
    }
   ],
   "source": [
    "#variable yg berulang menggunakan List/matriks\n",
    "list_nim=[]\n",
    "list_uts=[]\n",
    "list_uas=[]\n",
    "list_total=[]\n",
    "ulang=2\n",
    "for i in range(ulang):\n",
    "    print (\"data Ke - \" + str(i+1))\n",
    "    list_nim.append(input(\"Masukkan Nim anda : \"))\n",
    "    list_uts.append(int(input(\"Masukkan Nilai UTS anda:\")))\n",
    "    list_uas.append(int(input(\"Masukkan Nilai UAS : \")))\n",
    "#proses\n",
    "for i in range(ulang):\n",
    "    list_total.append((list_uas[i] + list_uts[i]) / 2)\n",
    "#Cetak\n",
    "print(\"=============================================================\")\n",
    "print(\"Nim      Nilai Uts        Nilai UAS               Total\")\n",
    "print(\"=============================================================\")\n",
    "for i in range(ulang):\n",
    "    print (\"%s \\t %i \\t\\t %i \\t\\t\\t %i\" % (list_nim[i],list_uts[i],list_uas[i],list_total[i]))\n",
    "print(\"=============================================================\")"
   ]
  }
 ],
 "metadata": {
  "kernelspec": {
   "display_name": "Python 3",
   "language": "python",
   "name": "python3"
  },
  "language_info": {
   "codemirror_mode": {
    "name": "ipython",
    "version": 3
   },
   "file_extension": ".py",
   "mimetype": "text/x-python",
   "name": "python",
   "nbconvert_exporter": "python",
   "pygments_lexer": "ipython3",
   "version": "3.12.0"
  }
 },
 "nbformat": 4,
 "nbformat_minor": 2
}
